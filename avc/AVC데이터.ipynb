{
 "cells": [
  {
   "cell_type": "code",
   "execution_count": 1,
   "metadata": {
    "collapsed": true
   },
   "outputs": [],
   "source": [
    "import pandas as pd"
   ]
  },
  {
   "cell_type": "code",
   "execution_count": 2,
   "metadata": {
    "collapsed": true
   },
   "outputs": [],
   "source": [
    "avc = pd.read_csv(\"ETC_30_04_01_386150.txt\", engine='python')\n",
    "avc = avc.drop('Unnamed: 10', axis=1)"
   ]
  },
  {
   "cell_type": "code",
   "execution_count": 3,
   "metadata": {},
   "outputs": [
    {
     "data": {
      "text/html": [
       "<div>\n",
       "<style>\n",
       "    .dataframe thead tr:only-child th {\n",
       "        text-align: right;\n",
       "    }\n",
       "\n",
       "    .dataframe thead th {\n",
       "        text-align: left;\n",
       "    }\n",
       "\n",
       "    .dataframe tbody tr th {\n",
       "        vertical-align: top;\n",
       "    }\n",
       "</style>\n",
       "<table border=\"1\" class=\"dataframe\">\n",
       "  <thead>\n",
       "    <tr style=\"text-align: right;\">\n",
       "      <th></th>\n",
       "      <th>기준시</th>\n",
       "      <th>기준일자</th>\n",
       "      <th>AVC_ID</th>\n",
       "      <th>도로이정</th>\n",
       "      <th>이정</th>\n",
       "      <th>AVC차종구분명</th>\n",
       "      <th>AVC차종구분코드</th>\n",
       "      <th>교통량</th>\n",
       "      <th>콘존명</th>\n",
       "      <th>콘존길이</th>\n",
       "    </tr>\n",
       "  </thead>\n",
       "  <tbody>\n",
       "    <tr>\n",
       "      <th>3991</th>\n",
       "      <td>0</td>\n",
       "      <td>20180105</td>\n",
       "      <td>0500AV00440</td>\n",
       "      <td>52.51</td>\n",
       "      <td>57.3</td>\n",
       "      <td>1종</td>\n",
       "      <td>1</td>\n",
       "      <td>128</td>\n",
       "      <td>용인IC-양지IC</td>\n",
       "      <td>7.96</td>\n",
       "    </tr>\n",
       "    <tr>\n",
       "      <th>3992</th>\n",
       "      <td>0</td>\n",
       "      <td>20180105</td>\n",
       "      <td>0500AV00440</td>\n",
       "      <td>52.51</td>\n",
       "      <td>57.3</td>\n",
       "      <td>2종</td>\n",
       "      <td>2</td>\n",
       "      <td>0</td>\n",
       "      <td>용인IC-양지IC</td>\n",
       "      <td>7.96</td>\n",
       "    </tr>\n",
       "    <tr>\n",
       "      <th>3993</th>\n",
       "      <td>0</td>\n",
       "      <td>20180105</td>\n",
       "      <td>0500AV00440</td>\n",
       "      <td>52.51</td>\n",
       "      <td>57.3</td>\n",
       "      <td>3종</td>\n",
       "      <td>3</td>\n",
       "      <td>14</td>\n",
       "      <td>용인IC-양지IC</td>\n",
       "      <td>7.96</td>\n",
       "    </tr>\n",
       "    <tr>\n",
       "      <th>3994</th>\n",
       "      <td>0</td>\n",
       "      <td>20180105</td>\n",
       "      <td>0500AV00440</td>\n",
       "      <td>52.51</td>\n",
       "      <td>57.3</td>\n",
       "      <td>4종</td>\n",
       "      <td>4</td>\n",
       "      <td>228</td>\n",
       "      <td>용인IC-양지IC</td>\n",
       "      <td>7.96</td>\n",
       "    </tr>\n",
       "    <tr>\n",
       "      <th>3995</th>\n",
       "      <td>0</td>\n",
       "      <td>20180105</td>\n",
       "      <td>0500AV00440</td>\n",
       "      <td>52.51</td>\n",
       "      <td>57.3</td>\n",
       "      <td>5종</td>\n",
       "      <td>5</td>\n",
       "      <td>66</td>\n",
       "      <td>용인IC-양지IC</td>\n",
       "      <td>7.96</td>\n",
       "    </tr>\n",
       "  </tbody>\n",
       "</table>\n",
       "</div>"
      ],
      "text/plain": [
       "      기준시      기준일자        AVC_ID   도로이정    이정 AVC차종구분명  AVC차종구분코드  교통량  \\\n",
       "3991    0  20180105  0500AV00440   52.51  57.3       1종          1  128   \n",
       "3992    0  20180105  0500AV00440   52.51  57.3       2종          2    0   \n",
       "3993    0  20180105  0500AV00440   52.51  57.3       3종          3   14   \n",
       "3994    0  20180105  0500AV00440   52.51  57.3       4종          4  228   \n",
       "3995    0  20180105  0500AV00440   52.51  57.3       5종          5   66   \n",
       "\n",
       "            콘존명  콘존길이  \n",
       "3991  용인IC-양지IC  7.96  \n",
       "3992  용인IC-양지IC  7.96  \n",
       "3993  용인IC-양지IC  7.96  \n",
       "3994  용인IC-양지IC  7.96  \n",
       "3995  용인IC-양지IC  7.96  "
      ]
     },
     "execution_count": 3,
     "metadata": {},
     "output_type": "execute_result"
    }
   ],
   "source": [
    "avc_area = avc[avc.콘존명 == '용인IC-양지IC']\n",
    "avc_area.head()"
   ]
  },
  {
   "cell_type": "code",
   "execution_count": 4,
   "metadata": {
    "collapsed": true
   },
   "outputs": [],
   "source": [
    "avc_area.to_excel('avc_data.xlsx', sheet_name = 'avc_data')"
   ]
  },
  {
   "cell_type": "code",
   "execution_count": null,
   "metadata": {
    "collapsed": true
   },
   "outputs": [],
   "source": []
  }
 ],
 "metadata": {
  "kernelspec": {
   "display_name": "Python 3",
   "language": "python",
   "name": "python3"
  },
  "language_info": {
   "codemirror_mode": {
    "name": "ipython",
    "version": 3
   },
   "file_extension": ".py",
   "mimetype": "text/x-python",
   "name": "python",
   "nbconvert_exporter": "python",
   "pygments_lexer": "ipython3",
   "version": "3.6.3"
  }
 },
 "nbformat": 4,
 "nbformat_minor": 2
}
